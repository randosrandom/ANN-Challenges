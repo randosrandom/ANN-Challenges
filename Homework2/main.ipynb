{
  "nbformat": 4,
  "nbformat_minor": 0,
  "metadata": {
    "colab": {
      "provenance": [],
      "collapsed_sections": []
    },
    "kernelspec": {
      "name": "python3",
      "display_name": "Python 3"
    },
    "accelerator": "GPU"
  },
  "cells": [
    {
      "cell_type": "markdown",
      "metadata": {
        "id": "2luK6UFUX8O-"
      },
      "source": [
        "# Set up the stage"
      ]
    },
    {
      "cell_type": "markdown",
      "metadata": {
        "id": "mXs2QFQwiQh0"
      },
      "source": [
        "Preliminary operations, useful to tackle the challenge"
      ]
    },
    {
      "cell_type": "code",
      "metadata": {
        "id": "a7kGoTGMhwzc"
      },
      "source": [
        "# Explicitly print the variables: useful for debugging\n",
        "\n",
        "from IPython.core.interactiveshell import InteractiveShell\n",
        "InteractiveShell.ast_node_interactivity = \"all\""
      ],
      "execution_count": null,
      "outputs": []
    },
    {
      "cell_type": "code",
      "metadata": {
        "id": "8ppYdeKSioNO"
      },
      "source": [
        "# Import all the necessary libraries and functions\n",
        "\n",
        "import os\n",
        "\n",
        "import tensorflow as tf\n",
        "import numpy as np\n",
        "\n",
        "import shutil\n",
        "\n",
        "# Set the seed for random operations, in order to let all the experiments be reproducible\n",
        "\n",
        "SEED = 1234\n",
        "\n",
        "tf.random.set_seed(SEED)\n",
        "np.random.seed(SEED)\n",
        "\n",
        "# We get the current directory cwd ('/content') and the directory env, which contains the zip file and the notebook\n",
        "\n",
        "cwd = os.getcwd()\n",
        "env = '/content/drive/My Drive/ANNDL_Homeworks2/Andrea/Experiment_Final'"
      ],
      "execution_count": null,
      "outputs": []
    },
    {
      "cell_type": "code",
      "metadata": {
        "id": "nfbRjW_bioqe",
        "colab": {
          "base_uri": "https://localhost:8080/"
        },
        "outputId": "55bbe24b-91fb-4169-f253-bb9a9fdae34c"
      },
      "source": [
        "# Mount Drive, in order to access to all folders and files in Drive\n",
        "\n",
        "from google.colab import drive\n",
        "drive.mount('/content/drive')"
      ],
      "execution_count": null,
      "outputs": [
        {
          "output_type": "stream",
          "text": [
            "Mounted at /content/drive\n"
          ],
          "name": "stdout"
        }
      ]
    },
    {
      "cell_type": "code",
      "metadata": {
        "id": "y3lRX5dkiu5j"
      },
      "source": [
        "# Unzip the dataset file\n",
        "\n",
        "!unzip '/content/drive/My Drive/ANNDL_Homeworks2/Andrea/Experiment_Final/Development_Dataset.zip'"
      ],
      "execution_count": null,
      "outputs": []
    },
    {
      "cell_type": "code",
      "metadata": {
        "id": "KapK7v6nTFDB"
      },
      "source": [
        "# Unzip the additional file\n",
        "\n",
        "!unzip '/content/drive/My Drive/ANNDL_Homeworks2/Andrea/Experiment_Final/Final_Dataset.zip'"
      ],
      "execution_count": null,
      "outputs": []
    },
    {
      "cell_type": "code",
      "metadata": {
        "id": "VLvj4rceixO5",
        "colab": {
          "base_uri": "https://localhost:8080/"
        },
        "outputId": "38deaa38-adf8-4b82-9ef7-8d80c76e0e7c"
      },
      "source": [
        "!ls '/content'"
      ],
      "execution_count": null,
      "outputs": [
        {
          "output_type": "stream",
          "text": [
            "Development_Dataset  drive  sample_data  Test_Dev  Test_Final\n"
          ],
          "name": "stdout"
        }
      ]
    },
    {
      "cell_type": "markdown",
      "metadata": {
        "id": "YTCa5DDmi1_G"
      },
      "source": [
        "# Dataset construction"
      ]
    },
    {
      "cell_type": "markdown",
      "metadata": {
        "id": "Dg7EEQFhjEz6"
      },
      "source": [
        "Creation of the dataset data structure, useful for the training of the model"
      ]
    },
    {
      "cell_type": "code",
      "metadata": {
        "id": "umoV-5WBi0UX"
      },
      "source": [
        "# Use ImageDataGenerator to perform data augmentation\n",
        "\n",
        "from tensorflow.keras.preprocessing.image import ImageDataGenerator\n",
        "\n",
        "apply_data_augmentation = True  # If true, perform data augmentation\n",
        "\n",
        "if apply_data_augmentation:\n",
        "    img_data_gen = ImageDataGenerator(rotation_range=5,\n",
        "                                      zoom_range=0.1,\n",
        "                                      horizontal_flip=True,\n",
        "                                      vertical_flip=True,\n",
        "                                      fill_mode='reflect')\n",
        "    mask_data_gen = ImageDataGenerator(rotation_range=5,\n",
        "                                      zoom_range=0.1,\n",
        "                                      horizontal_flip=True,\n",
        "                                      vertical_flip=True,\n",
        "                                      fill_mode='reflect')\n",
        "else:\n",
        "    img_data_gen = None\n",
        "    mask_data_gen = None"
      ],
      "execution_count": null,
      "outputs": []
    },
    {
      "cell_type": "code",
      "metadata": {
        "id": "n0BBjTEJjh-M"
      },
      "source": [
        "# Use this sligthly modified version of read_rgb_mask to convert RGB masks into \n",
        "# labels directly in the __getitem__ method\n",
        "\n",
        "from PIL import Image\n",
        "\n",
        "def read_rgb_mask(image):\n",
        "    '''\n",
        "    image: mask image\n",
        "    Returns the numpy array containing target values\n",
        "    '''\n",
        "    \n",
        "    mask_arr = np.array(image)\n",
        "\n",
        "    new_mask_arr = np.zeros(mask_arr.shape[:2], dtype=mask_arr.dtype)\n",
        "\n",
        "    # Use RGB dictionary in 'RGBtoTarget.txt' to convert RGB to target\n",
        "    new_mask_arr[np.where(np.all(mask_arr == [216, 124, 18], axis=-1))] = 0\n",
        "    new_mask_arr[np.where(np.all(mask_arr == [255, 255, 255], axis=-1))] = 1\n",
        "    new_mask_arr[np.where(np.all(mask_arr == [216, 67, 82], axis=-1))] = 2\n",
        "\n",
        "    return new_mask_arr"
      ],
      "execution_count": null,
      "outputs": []
    },
    {
      "cell_type": "code",
      "metadata": {
        "id": "OUShNUWkjgj2"
      },
      "source": [
        "# This class inherits from tf.keras.utils.Sequence, in order to synthesize a customized generator for datasets\n",
        "\n",
        "# We slightly modified the __getitem__ method, in order to convert the given masks (in RGB) to labels\n",
        "\n",
        "from PIL import Image\n",
        "\n",
        "class CustomDataset(tf.keras.utils.Sequence):\n",
        "\n",
        "  \"\"\"\n",
        "    CustomDataset inheriting from tf.keras.utils.Sequence.\n",
        "\n",
        "    3 main methods:\n",
        "      - __init__: save dataset params like directory, filenames..\n",
        "      - __len__: return the total number of samples in the dataset\n",
        "      - __getitem__: return a sample from the dataset\n",
        "\n",
        "    Note: \n",
        "      - the custom dataset return a single sample from the dataset. Then, we use \n",
        "        a tf.data.Dataset object to group samples into batches.\n",
        "      - in this case we have a different structure of the dataset in memory. \n",
        "        We have all the images in the same folder and the training and validation splits\n",
        "        are defined in text files.\n",
        "\n",
        "  \"\"\"\n",
        "\n",
        "  # self: like *this in C++\n",
        "  # dataset_dir: address of the folder containing the complete dataset\n",
        "  # which_subset: this function operates either on 'training' or 'validation'\n",
        "  # img_generator: generator of images (mostly for data augmentation)\n",
        "  # mask_generator: generator of images (mostly for data augmentation); for masks here\n",
        "  # preprocessing_function: function that preprocesses each input\n",
        "  # out_shape: shape of the output\n",
        "\n",
        "  # return: a dataset generator (like the ones returned by flow_from_directory)\n",
        "\n",
        "  def __init__(self, dataset_dir, which_subset, img_generator=None, mask_generator=None, \n",
        "               preprocessing_function=None, out_shape=[256, 256]):\n",
        "    if which_subset == 'training':\n",
        "      subset_file = os.path.join(dataset_dir, 'Splits', 'train.txt')\n",
        "    elif which_subset == 'validation':\n",
        "      subset_file = os.path.join(dataset_dir, 'Splits', 'val.txt')\n",
        "    \n",
        "    with open(subset_file, 'r') as f:\n",
        "      lines = f.readlines()\n",
        "    \n",
        "    subset_filenames = []\n",
        "    for line in lines:\n",
        "      subset_filenames.append(line.strip()) \n",
        "\n",
        "    self.which_subset = which_subset\n",
        "    self.dataset_dir = dataset_dir\n",
        "    self.subset_filenames = subset_filenames\n",
        "    self.img_generator = img_generator\n",
        "    self.mask_generator = mask_generator\n",
        "    self.preprocessing_function = preprocessing_function\n",
        "    self.out_shape = out_shape\n",
        "\n",
        "  # self: like *this in C++\n",
        "\n",
        "  # return: number of sample in the dataset\n",
        "\n",
        "  def __len__(self):\n",
        "    return len(self.subset_filenames)\n",
        "\n",
        "  # self: like *this in C++\n",
        "  # index: index of the image to be returned\n",
        "\n",
        "  # return: 2 arrays (1 for the image, 1 for the mask)\n",
        "\n",
        "  def __getitem__(self, index):\n",
        "    # Read Image\n",
        "    curr_filename = self.subset_filenames[index]\n",
        "    img = Image.open(os.path.join(self.dataset_dir, 'Images', curr_filename + '.jpg'))\n",
        "    mask = Image.open(os.path.join(self.dataset_dir, 'Annotations', curr_filename + '.png'))\n",
        "\n",
        "    # Resize image and mask\n",
        "    img = img.resize(self.out_shape)\n",
        "    mask = mask.resize(self.out_shape, resample=Image.NEAREST)\n",
        "    \n",
        "    img_arr = np.array(img)\n",
        "    mask_arr = read_rgb_mask(mask)\n",
        "\n",
        "    mask_arr = np.expand_dims(mask_arr, -1)\n",
        "\n",
        "    if self.which_subset == 'training':\n",
        "      if self.img_generator is not None and self.mask_generator is not None:\n",
        "        # Perform data augmentation\n",
        "        # We can get a random transformation from the ImageDataGenerator using get_random_transform\n",
        "        # and we can apply it to the image using apply_transform\n",
        "        img_t = self.img_generator.get_random_transform(img_arr.shape, seed=SEED)\n",
        "        mask_t = self.mask_generator.get_random_transform(mask_arr.shape, seed=SEED)\n",
        "        img_arr = self.img_generator.apply_transform(img_arr, img_t)\n",
        "        # ImageDataGenerator use bilinear interpolation for augmenting the images.\n",
        "        # Thus, when applied to the masks it will output 'interpolated classes', which\n",
        "        # is an unwanted behaviour. As a trick, we can transform each class mask \n",
        "        # separately and then we can cast to integer values (as in the binary segmentation notebook).\n",
        "        # Finally, we merge the augmented binary masks to obtain the final segmentation mask.\n",
        "        out_mask = np.zeros_like(mask_arr)\n",
        "        for c in np.unique(mask_arr):\n",
        "          if c > 0:\n",
        "            curr_class_arr = np.float32(mask_arr == c)\n",
        "            curr_class_arr = self.mask_generator.apply_transform(curr_class_arr, mask_t)\n",
        "            # from [0, 1] to {0, 1}\n",
        "            curr_class_arr = np.uint8(curr_class_arr)\n",
        "            # recover original class\n",
        "            curr_class_arr = curr_class_arr * c \n",
        "            out_mask += curr_class_arr\n",
        "    else:\n",
        "      out_mask = mask_arr\n",
        "    \n",
        "    if self.preprocessing_function is not None:\n",
        "        img_arr = self.preprocessing_function(img_arr)\n",
        "\n",
        "    return img_arr, np.float32(out_mask)"
      ],
      "execution_count": null,
      "outputs": []
    },
    {
      "cell_type": "code",
      "metadata": {
        "id": "xEXZgatXS7F_"
      },
      "source": [
        "## Copy images and masks from Test_Dev to the relative subfolders of Development_Dataset, in order to exploit properly all the code we wrote for Challenge2\n",
        "\n",
        "# Bipbip-Haricot\n",
        "\n",
        "source_dir_images = '/content/Test_Dev/Bipbip/Haricot/Images'\n",
        "source_dir_masks = '/content/Test_Dev/Bipbip/Haricot/Masks'\n",
        "\n",
        "target_dir_images = '/content/Development_Dataset/Training/Bipbip/Haricot/Images'\n",
        "target_dir_masks = '/content/Development_Dataset/Training/Bipbip/Haricot/Masks'\n",
        "\n",
        "filenames = os.listdir(source_dir_images)\n",
        "\n",
        "for filename in filenames:\n",
        "  shutil.copy2(os.path.join(source_dir_images, filename), target_dir_images)\n",
        "\n",
        "filenames = os.listdir(source_dir_masks)\n",
        "\n",
        "for filename in filenames:\n",
        "  shutil.copy2(os.path.join(source_dir_masks, filename), target_dir_masks)\n",
        "\n",
        "# Bipbip-Mais\n",
        "\n",
        "source_dir_images = '/content/Test_Dev/Bipbip/Mais/Images'\n",
        "source_dir_masks = '/content/Test_Dev/Bipbip/Mais/Masks'\n",
        "\n",
        "target_dir_images = '/content/Development_Dataset/Training/Bipbip/Mais/Images'\n",
        "target_dir_masks = '/content/Development_Dataset/Training/Bipbip/Mais/Masks'\n",
        "\n",
        "filenames = os.listdir(source_dir_images)\n",
        "\n",
        "for filename in filenames:\n",
        "  shutil.copy2(os.path.join(source_dir_images, filename), target_dir_images)\n",
        "\n",
        "filenames = os.listdir(source_dir_masks)\n",
        "\n",
        "for filename in filenames:\n",
        "  shutil.copy2(os.path.join(source_dir_masks, filename), target_dir_masks)"
      ],
      "execution_count": null,
      "outputs": []
    },
    {
      "cell_type": "code",
      "metadata": {
        "id": "eBs9EM-JE_cc"
      },
      "source": [
        "# In order to use the classes provided, we created and run data_manipulation function, which:\n",
        "\n",
        "  # Renames \"Masks\" folder in \"Annotations\"\n",
        "  # Creates a \"Splits\" folder\n",
        "  # Creates the necessary txt files for dataset splitting: \"train.txt\" and \"val.txt\"\n",
        "\n",
        "# Function definition:\n",
        "\n",
        "import random\n",
        "\n",
        "def data_manipulation(dataset_dir, validation_split):\n",
        "\n",
        "  # In the folder, rename \"Masks\" in \"Annotations\"\n",
        "\n",
        "  mask_path = os.path.join(dataset_dir, 'Masks')\n",
        "  new_mask_path = os.path.join(dataset_dir, 'Annotations')\n",
        "\n",
        "  if not os.path.exists(new_mask_path):\n",
        "    os.rename(mask_path, new_mask_path)\n",
        "\n",
        "  # Generate \"Splits\" directory\n",
        "\n",
        "  target_path = os.path.join(dataset_dir, 'Splits')\n",
        "\n",
        "  if not os.path.exists(target_path):\n",
        "    os.makedirs(target_path)\n",
        "\n",
        "  images_dir = os.path.join(dataset_dir, 'Images')\n",
        "\n",
        "  # Create the \"train.txt\" and \"val.txt\" files\n",
        "\n",
        "  f_train = open(os.path.join(target_path,\"train.txt\"), \"w+\")\n",
        "  f_val = open(os.path.join(target_path,\"val.txt\"), \"w+\")\n",
        "\n",
        "  # Create the list of images names (shuffle names with a fixed SEED to ensure reproducibility)\n",
        "\n",
        "  names_list = os.listdir(images_dir)\n",
        "  names_list = sorted(names_list)\n",
        "\n",
        "  random.Random(SEED).shuffle(names_list)\n",
        "\n",
        "  total_N = len(names_list)\n",
        "  val_N = int((1-validation_split)*total_N)\n",
        "\n",
        "  # Assign filenames in \"train.txt\"\n",
        "\n",
        "  for count in range(0, val_N):\n",
        "    name = names_list[count]\n",
        "    name = name.replace(\".jpg\", \"\")\n",
        "    f_train.write(name + \"\\n\")\n",
        "  f_train.close()\n",
        "\n",
        "  # Assign filenames in \"val.txt\"\n",
        "\n",
        "  for count in range(val_N, total_N):\n",
        "    name = names_list[count]\n",
        "    name = name.replace(\".jpg\", \"\")\n",
        "    f_val.write(name + \"\\n\")\n",
        "  f_val.close()"
      ],
      "execution_count": null,
      "outputs": []
    },
    {
      "cell_type": "code",
      "metadata": {
        "id": "IhIHBN_qJWTT"
      },
      "source": [
        "# Run the data_manipulation function just created, for each crop\n",
        "\n",
        "dataset_name = 'Bipbip'\n",
        "\n",
        "validation_split = 0.1\n",
        "\n",
        "# Haricot\n",
        "\n",
        "crop_name = 'Haricot'\n",
        "\n",
        "dataset_dir = os.path.join('/content/Development_Dataset/Training', dataset_name, crop_name)\n",
        "\n",
        "data_manipulation(dataset_dir, validation_split)\n",
        "\n",
        "# Mais\n",
        "\n",
        "crop_name = 'Mais'\n",
        "\n",
        "dataset_dir = os.path.join('/content/Development_Dataset/Training', dataset_name, crop_name)\n",
        "\n",
        "data_manipulation(dataset_dir, validation_split)"
      ],
      "execution_count": null,
      "outputs": []
    },
    {
      "cell_type": "code",
      "metadata": {
        "id": "OQfGS62oqz3e"
      },
      "source": [
        "!ls '/content/Development_Dataset/Training/Bipbip/Haricot'\n",
        "!ls '/content/Development_Dataset/Training/Bipbip/Haricot/Splits'"
      ],
      "execution_count": null,
      "outputs": []
    },
    {
      "cell_type": "code",
      "metadata": {
        "id": "mCl8NwgjLk5v"
      },
      "source": [
        "!ls '/content/Development_Dataset/Training/Bipbip/Mais'\n",
        "!ls '/content/Development_Dataset/Training/Bipbip/Mais/Splits'"
      ],
      "execution_count": null,
      "outputs": []
    },
    {
      "cell_type": "code",
      "metadata": {
        "id": "2d_VHW2luzh9"
      },
      "source": [
        "# Check the splitting between training and validation dataset for Haricot\n",
        "\n",
        "from shutil import copyfile\n",
        "copyfile(os.path.join('/content/Development_Dataset/Training/Bipbip/Haricot', 'Splits',\"train.txt\"), os.path.join(env,'our_train_Haricot.txt'))\n",
        "copyfile(os.path.join('/content/Development_Dataset/Training/Bipbip/Haricot', 'Splits',\"val.txt\"), os.path.join(env,'our_val_Haricot.txt'))"
      ],
      "execution_count": null,
      "outputs": []
    },
    {
      "cell_type": "code",
      "metadata": {
        "id": "lzPBfHIzLoOU"
      },
      "source": [
        "# Check the splitting between training and validation dataset for Mais\n",
        "\n",
        "from shutil import copyfile\n",
        "copyfile(os.path.join('/content/Development_Dataset/Training/Bipbip/Mais', 'Splits',\"train.txt\"), os.path.join(env,'our_train_Mais.txt'))\n",
        "copyfile(os.path.join('/content/Development_Dataset/Training/Bipbip/Mais', 'Splits',\"val.txt\"), os.path.join(env,'our_val_Mais.txt'))"
      ],
      "execution_count": null,
      "outputs": []
    },
    {
      "cell_type": "code",
      "metadata": {
        "id": "TNoevzVom12u"
      },
      "source": [
        "# Use the class defined before to create customized dataset generators, for each crop\n",
        "\n",
        "from tensorflow.keras.applications.vgg16 import preprocess_input \n",
        "\n",
        "img_h = 1184\n",
        "img_w = 1184\n",
        "\n",
        "bs_train = 9\n",
        "bs_val = 3\n",
        "\n",
        "# Haricot generators\n",
        "\n",
        "Haricot_dataset = CustomDataset('/content/Development_Dataset/Training/Bipbip/Haricot', 'training', \n",
        "                        img_generator=img_data_gen, mask_generator=mask_data_gen,\n",
        "                        preprocessing_function=preprocess_input, out_shape=[img_w, img_h])\n",
        "\n",
        "Haricot_dataset_valid = CustomDataset('/content/Development_Dataset/Training/Bipbip/Haricot', 'validation', \n",
        "                              preprocessing_function=preprocess_input, out_shape=[img_w, img_h])\n",
        "\n",
        "# Mais generators\n",
        "\n",
        "Mais_dataset = CustomDataset('/content/Development_Dataset/Training/Bipbip/Mais', 'training', \n",
        "                        img_generator=img_data_gen, mask_generator=mask_data_gen,\n",
        "                        preprocessing_function=preprocess_input, out_shape=[img_w, img_h])\n",
        "\n",
        "Mais_dataset_valid = CustomDataset('/content/Development_Dataset/Training/Bipbip/Mais', 'validation', \n",
        "                              preprocessing_function=preprocess_input, out_shape=[img_w, img_h])\n",
        "\n",
        "\n",
        "# Use the generators just created to construct training and validation datasets separately for each crop of the team\n",
        "\n",
        "# Haricot datasets\n",
        "\n",
        "Haricot_train_dataset = tf.data.Dataset.from_generator(lambda: Haricot_dataset,\n",
        "                                               output_types=(tf.float32, tf.float32),\n",
        "                                               output_shapes=([img_h, img_w, 3], [img_h, img_w, 1]))\n",
        "\n",
        "Haricot_train_dataset = Haricot_train_dataset.batch(bs_train)\n",
        "\n",
        "Haricot_valid_dataset = tf.data.Dataset.from_generator(lambda: Haricot_dataset_valid,\n",
        "                                               output_types=(tf.float32, tf.float32),\n",
        "                                               output_shapes=([img_h, img_w, 3], [img_h, img_w, 1]))\n",
        "\n",
        "Haricot_valid_dataset = Haricot_valid_dataset.batch(bs_val)\n",
        "\n",
        "# Mais datasets\n",
        "\n",
        "Mais_train_dataset = tf.data.Dataset.from_generator(lambda: Mais_dataset,\n",
        "                                               output_types=(tf.float32, tf.float32),\n",
        "                                               output_shapes=([img_h, img_w, 3], [img_h, img_w, 1]))\n",
        "\n",
        "Mais_train_dataset = Mais_train_dataset.batch(bs_train)\n",
        "\n",
        "Mais_valid_dataset = tf.data.Dataset.from_generator(lambda: Mais_dataset_valid,\n",
        "                                               output_types=(tf.float32, tf.float32),\n",
        "                                               output_shapes=([img_h, img_w, 3], [img_h, img_w, 1]))\n",
        "\n",
        "Mais_valid_dataset = Mais_valid_dataset.batch(bs_val)\n",
        "\n",
        "# Eventually concatenate the two train and valid datasets to create the final ones\n",
        "\n",
        "train_dataset = Haricot_train_dataset.concatenate(Mais_train_dataset)\n",
        "\n",
        "train_dataset = train_dataset.repeat()\n",
        "\n",
        "valid_dataset = Haricot_valid_dataset.concatenate(Mais_valid_dataset)\n",
        "\n",
        "valid_dataset = valid_dataset.repeat()"
      ],
      "execution_count": null,
      "outputs": []
    },
    {
      "cell_type": "code",
      "metadata": {
        "id": "lm8dKa5EsNvo"
      },
      "source": [
        "# Run this function (found on StackOverflow) to denormalize the image wrt the vgg preprocessing\n",
        "\n",
        "def deprocess_img(processed_img):\n",
        "  x = processed_img.copy()\n",
        "  if len(x.shape) == 4:\n",
        "    x = np.squeeze(x, 0)\n",
        "  assert len(x.shape) == 3, (\"Input to deprocess image must be an image of \"\n",
        "                             \"dimension [1, height, width, channel] or [height, width, channel]\")\n",
        "  if len(x.shape) != 3:\n",
        "    raise ValueError(\"Invalid input to deprocessing image\")\n",
        "  \n",
        "  # perform the inverse of the preprocessiing step\n",
        "  x[:, :, 0] += 103.939\n",
        "  x[:, :, 1] += 116.779\n",
        "  x[:, :, 2] += 123.68\n",
        "  x = x[:, :, ::-1]\n",
        "\n",
        "  x = np.clip(x, 0, 255).astype('uint8')\n",
        "  return x"
      ],
      "execution_count": null,
      "outputs": []
    },
    {
      "cell_type": "code",
      "metadata": {
        "id": "tqz5dIOXnV9t"
      },
      "source": [
        "# Perform the test of the data generator\n",
        "\n",
        "import time\n",
        "from matplotlib import cm\n",
        "import matplotlib.pyplot as plt\n",
        "\n",
        "%matplotlib inline\n",
        "\n",
        "# Assign a color to each class\n",
        "\n",
        "evenly_spaced_interval = np.linspace(0, 1, 3)\n",
        "colors = [cm.rainbow(x) for x in evenly_spaced_interval]\n",
        "\n",
        "iterator = iter(train_dataset)"
      ],
      "execution_count": null,
      "outputs": []
    },
    {
      "cell_type": "code",
      "metadata": {
        "id": "KC2A0hlQss7I",
        "colab": {
          "base_uri": "https://localhost:8080/",
          "height": 185
        },
        "outputId": "9b5f9915-8c7b-4238-c04c-d0966a00b29a"
      },
      "source": [
        "fig, ax = plt.subplots(1, 3)\n",
        "\n",
        "augmented_img, target = next(iterator)\n",
        "augmented_img = augmented_img[0]   # First element\n",
        "augmented_img_denormalized = deprocess_img(augmented_img.numpy())\n",
        "\n",
        "target = np.array(target[0, ..., 0])   # First element (squeezing channel dimension)\n",
        "\n",
        "print(np.unique(target))\n",
        "\n",
        "target_img = np.zeros([target.shape[0], target.shape[1], 3])\n",
        "\n",
        "target_img[np.where(target == 0)] = [0, 0, 0]\n",
        "for i in range(1, 3):\n",
        "  target_img[np.where(target == i)] = np.array(colors[i-1])[:3] * 255\n",
        "\n",
        "ax[0].imshow(np.uint8(augmented_img_denormalized))\n",
        "ax[1].imshow(np.uint8(augmented_img))\n",
        "ax[2].imshow(np.uint8(target_img))\n",
        "\n",
        "plt.show()"
      ],
      "execution_count": null,
      "outputs": [
        {
          "output_type": "stream",
          "text": [
            "[0. 1. 2.]\n"
          ],
          "name": "stdout"
        },
        {
          "output_type": "execute_result",
          "data": {
            "text/plain": [
              "<matplotlib.image.AxesImage at 0x7f11a3929048>"
            ]
          },
          "metadata": {
            "tags": []
          },
          "execution_count": 20
        },
        {
          "output_type": "execute_result",
          "data": {
            "text/plain": [
              "<matplotlib.image.AxesImage at 0x7f11103b81d0>"
            ]
          },
          "metadata": {
            "tags": []
          },
          "execution_count": 20
        },
        {
          "output_type": "execute_result",
          "data": {
            "text/plain": [
              "<matplotlib.image.AxesImage at 0x7f11103c37f0>"
            ]
          },
          "metadata": {
            "tags": []
          },
          "execution_count": 20
        },
        {
          "output_type": "display_data",
          "data": {
            "image/png": "[encoded data removed]",
            "text/plain": [
              "<Figure size 432x288 with 3 Axes>"
            ]
          },
          "metadata": {
            "tags": [],
            "needs_background": "light"
          }
        }
      ]
    },
    {
      "cell_type": "markdown",
      "metadata": {
        "id": "z4D1tbLVxPXD"
      },
      "source": [
        "# Model creation\n",
        "### Encoder-Decoder"
      ]
    },
    {
      "cell_type": "code",
      "metadata": {
        "id": "e7RjKKOfMWJN",
        "colab": {
          "base_uri": "https://localhost:8080/"
        },
        "outputId": "7f870a58-6ed7-4072-9a0b-1bfe5c170b92"
      },
      "source": [
        "# We import the vgg cnn, and freeze all its layers\n",
        "\n",
        "vgg = tf.keras.applications.VGG16(weights='imagenet', include_top=False, input_shape=(img_h, img_w, 3))\n",
        "\n",
        "for layer in vgg.layers:\n",
        "  layer.trainable = False"
      ],
      "execution_count": null,
      "outputs": [
        {
          "output_type": "stream",
          "text": [
            "Downloading data from https://storage.googleapis.com/tensorflow/keras-applications/vgg16/vgg16_weights_tf_dim_ordering_tf_kernels_notop.h5\n",
            "58892288/58889256 [==============================] - 1s 0us/step\n"
          ],
          "name": "stdout"
        }
      ]
    },
    {
      "cell_type": "code",
      "metadata": {
        "id": "3kT9NDLbmlfi",
        "colab": {
          "base_uri": "https://localhost:8080/"
        },
        "outputId": "80653ce5-15e9-49e1-df9e-9d1e3a55d31b"
      },
      "source": [
        "# Create a proper model for this task\n",
        "\n",
        "depth=5 \n",
        "start_f = 90\n",
        "num_classes=3\n",
        "\n",
        "model = tf.keras.Sequential()\n",
        "\n",
        "# Encoder\n",
        "\n",
        "model.add(vgg)\n",
        "\n",
        "# Decoder\n",
        "\n",
        "for i in range(depth):\n",
        "    model.add(tf.keras.layers.UpSampling2D(2, interpolation='bilinear'))\n",
        "    model.add(tf.keras.layers.Conv2D(filters=start_f,\n",
        "                                     kernel_size=(3, 3),\n",
        "                                     strides=(1, 1),\n",
        "                                     padding='same'))\n",
        "    model.add(tf.keras.layers.ReLU())\n",
        "    start_f = start_f // 2\n",
        "\n",
        "# Prediction Layer\n",
        "\n",
        "model.add(tf.keras.layers.Conv2D(filters=num_classes,\n",
        "                                 kernel_size=(1, 1),\n",
        "                                 strides=(1, 1),\n",
        "                                 padding='same',\n",
        "                                 activation='softmax'))\n",
        "\n",
        "# Visualize created model as a table\n",
        "\n",
        "model.summary()"
      ],
      "execution_count": null,
      "outputs": [
        {
          "output_type": "stream",
          "text": [
            "Model: \"sequential\"\n",
            "_________________________________________________________________\n",
            "Layer (type)                 Output Shape              Param #   \n",
            "=================================================================\n",
            "vgg16 (Functional)           (None, 37, 37, 512)       14714688  \n",
            "_________________________________________________________________\n",
            "up_sampling2d (UpSampling2D) (None, 74, 74, 512)       0         \n",
            "_________________________________________________________________\n",
            "conv2d (Conv2D)              (None, 74, 74, 90)        414810    \n",
            "_________________________________________________________________\n",
            "re_lu (ReLU)                 (None, 74, 74, 90)        0         \n",
            "_________________________________________________________________\n",
            "up_sampling2d_1 (UpSampling2 (None, 148, 148, 90)      0         \n",
            "_________________________________________________________________\n",
            "conv2d_1 (Conv2D)            (None, 148, 148, 45)      36495     \n",
            "_________________________________________________________________\n",
            "re_lu_1 (ReLU)               (None, 148, 148, 45)      0         \n",
            "_________________________________________________________________\n",
            "up_sampling2d_2 (UpSampling2 (None, 296, 296, 45)      0         \n",
            "_________________________________________________________________\n",
            "conv2d_2 (Conv2D)            (None, 296, 296, 22)      8932      \n",
            "_________________________________________________________________\n",
            "re_lu_2 (ReLU)               (None, 296, 296, 22)      0         \n",
            "_________________________________________________________________\n",
            "up_sampling2d_3 (UpSampling2 (None, 592, 592, 22)      0         \n",
            "_________________________________________________________________\n",
            "conv2d_3 (Conv2D)            (None, 592, 592, 11)      2189      \n",
            "_________________________________________________________________\n",
            "re_lu_3 (ReLU)               (None, 592, 592, 11)      0         \n",
            "_________________________________________________________________\n",
            "up_sampling2d_4 (UpSampling2 (None, 1184, 1184, 11)    0         \n",
            "_________________________________________________________________\n",
            "conv2d_4 (Conv2D)            (None, 1184, 1184, 5)     500       \n",
            "_________________________________________________________________\n",
            "re_lu_4 (ReLU)               (None, 1184, 1184, 5)     0         \n",
            "_________________________________________________________________\n",
            "conv2d_5 (Conv2D)            (None, 1184, 1184, 3)     18        \n",
            "=================================================================\n",
            "Total params: 15,177,632\n",
            "Trainable params: 462,944\n",
            "Non-trainable params: 14,714,688\n",
            "_________________________________________________________________\n"
          ],
          "name": "stdout"
        }
      ]
    },
    {
      "cell_type": "markdown",
      "metadata": {
        "id": "Qz04WoLMyUf-"
      },
      "source": [
        "# Model preparation and training"
      ]
    },
    {
      "cell_type": "code",
      "metadata": {
        "id": "vUaUBTpSyT8r"
      },
      "source": [
        "# Set the proper optimization params\n",
        "\n",
        "# Loss\n",
        "\n",
        "loss = tf.keras.losses.SparseCategoricalCrossentropy()\n",
        "\n",
        "# learning rate\n",
        "\n",
        "lr = 1e-3\n",
        "optimizer = tf.keras.optimizers.Adam(learning_rate=lr)\n",
        "\n",
        "# Use the given function to compute intersection over union for each class in the batch.\n",
        "# Compute the final iou as the mean over classes\n",
        "\n",
        "def meanIoU(y_true, y_pred):\n",
        "\n",
        "    # get predicted class from softmax\n",
        "    y_pred = tf.expand_dims(tf.argmax(y_pred, -1), -1)\n",
        "\n",
        "    per_class_iou = []\n",
        "\n",
        "    for i in range(1,3): # exclude the background class 0\n",
        "\n",
        "      # Get prediction and target related to only a single class (i)\n",
        "      class_pred = tf.cast(tf.where(y_pred == i, 1, 0), tf.float32)\n",
        "      class_true = tf.cast(tf.where(y_true == i, 1, 0), tf.float32)\n",
        "      intersection = tf.reduce_sum(class_true * class_pred)\n",
        "      union = tf.reduce_sum(class_true) + tf.reduce_sum(class_pred) - intersection\n",
        "    \n",
        "      iou = (intersection + 1e-7) / (union + 1e-7)\n",
        "      per_class_iou.append(iou)\n",
        "\n",
        "    return tf.reduce_mean(per_class_iou)\n",
        "\n",
        "# Set validation metrics\n",
        "\n",
        "metrics = ['accuracy', meanIoU]\n",
        "\n",
        "# Compile Model\n",
        "\n",
        "model.compile(optimizer=optimizer, loss=loss, metrics=metrics)"
      ],
      "execution_count": null,
      "outputs": []
    },
    {
      "cell_type": "code",
      "metadata": {
        "id": "Z265Ca4lz-IQ"
      },
      "source": [
        "# We set the proper callbacks for training\n",
        "\n",
        "# Create the folder for the experiments\n",
        "\n",
        "from datetime import datetime\n",
        "\n",
        "exps_dir = os.path.join(env, 'multiclass_segmentation_experiments')\n",
        "if not os.path.exists(exps_dir):\n",
        "    os.makedirs(exps_dir)\n",
        "\n",
        "# Create the folder for the current experiment\n",
        "\n",
        "now = datetime.now().strftime('%b%d_%H-%M-%S')\n",
        "\n",
        "model_name = 'CNN'\n",
        "\n",
        "exp_dir = os.path.join(exps_dir, model_name + '_' + str(now))\n",
        "if not os.path.exists(exp_dir):\n",
        "    os.makedirs(exp_dir)\n",
        "    \n",
        "callbacks = []\n",
        "\n",
        "# Model checkpoint\n",
        "\n",
        "ckpt_dir = os.path.join(exp_dir, 'ckpts')\n",
        "if not os.path.exists(ckpt_dir):\n",
        "    os.makedirs(ckpt_dir)\n",
        "\n",
        "ckpt_callback = tf.keras.callbacks.ModelCheckpoint(filepath=os.path.join(ckpt_dir, 'cp_{epoch:02d}.ckpt'), \n",
        "                                                   save_weights_only=True,\n",
        "                                                   save_best_only=False)  # False to save the model directly\n",
        "callbacks.append(ckpt_callback)\n",
        "\n",
        "# Visualize Learning on Tensorboard\n",
        "\n",
        "tb_dir = os.path.join(exp_dir, 'tb_logs')\n",
        "if not os.path.exists(tb_dir):\n",
        "    os.makedirs(tb_dir)\n",
        "    \n",
        "# By default shows losses and metrics for both training and validation\n",
        "tb_callback = tf.keras.callbacks.TensorBoard(log_dir=tb_dir,\n",
        "                                             profile_batch=0,\n",
        "                                             histogram_freq=0)  # if 1 shows weights histograms\n",
        "callbacks.append(tb_callback)\n",
        "\n",
        "# Early Stopping\n",
        "\n",
        "early_stop = True\n",
        "if early_stop:\n",
        "    es_callback = tf.keras.callbacks.EarlyStopping(monitor='val_loss', patience=20)\n",
        "    callbacks.append(es_callback)"
      ],
      "execution_count": null,
      "outputs": []
    },
    {
      "cell_type": "code",
      "metadata": {
        "id": "0pfeUul70rVV",
        "colab": {
          "base_uri": "https://localhost:8080/"
        },
        "outputId": "87005d69-5783-49c8-b21a-d43611ce964a"
      },
      "source": [
        "# Perform the training of the model\n",
        "\n",
        "model.fit(x=train_dataset,\n",
        "          epochs=50,  #### set repeat in training dataset\n",
        "          steps_per_epoch=(len(Haricot_dataset)+len(Mais_dataset)) // bs_train,\n",
        "          validation_data=valid_dataset,\n",
        "          validation_steps=(len(Haricot_dataset_valid)+len(Mais_dataset_valid)) // bs_val, \n",
        "          callbacks=callbacks)"
      ],
      "execution_count": null,
      "outputs": [
        {
          "output_type": "stream",
          "text": [
            "Epoch 1/50\n",
            "20/20 [==============================] - 184s 8s/step - loss: 0.3409 - accuracy: 0.8951 - meanIoU: 0.1087 - val_loss: 0.1525 - val_accuracy: 0.9450 - val_meanIoU: 0.3077\n",
            "Epoch 2/50\n",
            "20/20 [==============================] - 152s 8s/step - loss: 0.1655 - accuracy: 0.9278 - meanIoU: 0.3112 - val_loss: 0.1405 - val_accuracy: 0.9429 - val_meanIoU: 0.2888\n",
            "Epoch 3/50\n",
            "20/20 [==============================] - 151s 8s/step - loss: 0.1546 - accuracy: 0.9285 - meanIoU: 0.3147 - val_loss: 0.1221 - val_accuracy: 0.9535 - val_meanIoU: 0.3429\n",
            "Epoch 4/50\n",
            "20/20 [==============================] - 152s 8s/step - loss: 0.1417 - accuracy: 0.9370 - meanIoU: 0.3559 - val_loss: 0.1171 - val_accuracy: 0.9548 - val_meanIoU: 0.3613\n",
            "Epoch 5/50\n",
            "20/20 [==============================] - 150s 8s/step - loss: 0.1429 - accuracy: 0.9342 - meanIoU: 0.3837 - val_loss: 0.1177 - val_accuracy: 0.9583 - val_meanIoU: 0.4006\n",
            "Epoch 6/50\n",
            "20/20 [==============================] - 155s 8s/step - loss: 0.1413 - accuracy: 0.9353 - meanIoU: 0.4129 - val_loss: 0.1165 - val_accuracy: 0.9577 - val_meanIoU: 0.3996\n",
            "Epoch 7/50\n",
            "20/20 [==============================] - 151s 8s/step - loss: 0.1308 - accuracy: 0.9437 - meanIoU: 0.4632 - val_loss: 0.1124 - val_accuracy: 0.9632 - val_meanIoU: 0.4877\n",
            "Epoch 8/50\n",
            "20/20 [==============================] - 150s 8s/step - loss: 0.1180 - accuracy: 0.9594 - meanIoU: 0.6107 - val_loss: 0.1055 - val_accuracy: 0.9626 - val_meanIoU: 0.5065\n",
            "Epoch 9/50\n",
            "20/20 [==============================] - 150s 8s/step - loss: 0.1099 - accuracy: 0.9611 - meanIoU: 0.5996 - val_loss: 0.1053 - val_accuracy: 0.9627 - val_meanIoU: 0.5135\n",
            "Epoch 10/50\n",
            "20/20 [==============================] - 151s 8s/step - loss: 0.1066 - accuracy: 0.9619 - meanIoU: 0.6214 - val_loss: 0.1090 - val_accuracy: 0.9618 - val_meanIoU: 0.5054\n",
            "Epoch 11/50\n",
            "20/20 [==============================] - 150s 8s/step - loss: 0.1050 - accuracy: 0.9624 - meanIoU: 0.6311 - val_loss: 0.1124 - val_accuracy: 0.9609 - val_meanIoU: 0.5076\n",
            "Epoch 12/50\n",
            "20/20 [==============================] - 155s 8s/step - loss: 0.1107 - accuracy: 0.9605 - meanIoU: 0.6241 - val_loss: 0.1091 - val_accuracy: 0.9624 - val_meanIoU: 0.5031\n",
            "Epoch 13/50\n",
            "20/20 [==============================] - 150s 8s/step - loss: 0.1038 - accuracy: 0.9624 - meanIoU: 0.6558 - val_loss: 0.1024 - val_accuracy: 0.9645 - val_meanIoU: 0.5326\n",
            "Epoch 14/50\n",
            "20/20 [==============================] - 152s 8s/step - loss: 0.0981 - accuracy: 0.9638 - meanIoU: 0.6670 - val_loss: 0.0990 - val_accuracy: 0.9653 - val_meanIoU: 0.5318\n",
            "Epoch 15/50\n",
            "20/20 [==============================] - 152s 8s/step - loss: 0.0913 - accuracy: 0.9656 - meanIoU: 0.6611 - val_loss: 0.1005 - val_accuracy: 0.9653 - val_meanIoU: 0.5288\n",
            "Epoch 16/50\n",
            "20/20 [==============================] - 151s 8s/step - loss: 0.0945 - accuracy: 0.9644 - meanIoU: 0.6851 - val_loss: 0.1019 - val_accuracy: 0.9655 - val_meanIoU: 0.5261\n",
            "Epoch 17/50\n",
            "20/20 [==============================] - 154s 8s/step - loss: 0.0943 - accuracy: 0.9646 - meanIoU: 0.7009 - val_loss: 0.1097 - val_accuracy: 0.9640 - val_meanIoU: 0.5319\n",
            "Epoch 18/50\n",
            "20/20 [==============================] - 151s 8s/step - loss: 0.0917 - accuracy: 0.9655 - meanIoU: 0.6786 - val_loss: 0.1115 - val_accuracy: 0.9646 - val_meanIoU: 0.5286\n",
            "Epoch 19/50\n",
            "20/20 [==============================] - 150s 8s/step - loss: 0.0858 - accuracy: 0.9676 - meanIoU: 0.6882 - val_loss: 0.1032 - val_accuracy: 0.9652 - val_meanIoU: 0.5376\n",
            "Epoch 20/50\n",
            "20/20 [==============================] - 150s 8s/step - loss: 0.0817 - accuracy: 0.9693 - meanIoU: 0.6765 - val_loss: 0.1006 - val_accuracy: 0.9647 - val_meanIoU: 0.5461\n",
            "Epoch 21/50\n",
            "20/20 [==============================] - 150s 8s/step - loss: 0.0808 - accuracy: 0.9693 - meanIoU: 0.6943 - val_loss: 0.1025 - val_accuracy: 0.9639 - val_meanIoU: 0.5329\n",
            "Epoch 22/50\n",
            "20/20 [==============================] - 150s 7s/step - loss: 0.0830 - accuracy: 0.9686 - meanIoU: 0.6942 - val_loss: 0.1124 - val_accuracy: 0.9626 - val_meanIoU: 0.4997\n",
            "Epoch 23/50\n",
            "20/20 [==============================] - 154s 8s/step - loss: 0.0889 - accuracy: 0.9666 - meanIoU: 0.6850 - val_loss: 0.1071 - val_accuracy: 0.9637 - val_meanIoU: 0.5595\n",
            "Epoch 24/50\n",
            "20/20 [==============================] - 150s 7s/step - loss: 0.0834 - accuracy: 0.9686 - meanIoU: 0.7195 - val_loss: 0.1080 - val_accuracy: 0.9643 - val_meanIoU: 0.5380\n",
            "Epoch 25/50\n",
            "20/20 [==============================] - 150s 8s/step - loss: 0.0806 - accuracy: 0.9687 - meanIoU: 0.7161 - val_loss: 0.1012 - val_accuracy: 0.9649 - val_meanIoU: 0.5621\n",
            "Epoch 26/50\n",
            "20/20 [==============================] - 150s 7s/step - loss: 0.0805 - accuracy: 0.9686 - meanIoU: 0.7088 - val_loss: 0.1081 - val_accuracy: 0.9626 - val_meanIoU: 0.5202\n",
            "Epoch 27/50\n",
            "20/20 [==============================] - 151s 8s/step - loss: 0.0836 - accuracy: 0.9675 - meanIoU: 0.7270 - val_loss: 0.0974 - val_accuracy: 0.9652 - val_meanIoU: 0.5504\n",
            "Epoch 28/50\n",
            "20/20 [==============================] - 154s 8s/step - loss: 0.0824 - accuracy: 0.9683 - meanIoU: 0.7451 - val_loss: 0.1036 - val_accuracy: 0.9644 - val_meanIoU: 0.5024\n",
            "Epoch 29/50\n",
            "20/20 [==============================] - 150s 8s/step - loss: 0.0778 - accuracy: 0.9699 - meanIoU: 0.7155 - val_loss: 0.1023 - val_accuracy: 0.9653 - val_meanIoU: 0.5378\n",
            "Epoch 30/50\n",
            "20/20 [==============================] - 150s 7s/step - loss: 0.0711 - accuracy: 0.9723 - meanIoU: 0.7325 - val_loss: 0.1072 - val_accuracy: 0.9641 - val_meanIoU: 0.5543\n",
            "Epoch 31/50\n",
            "20/20 [==============================] - 150s 7s/step - loss: 0.0704 - accuracy: 0.9731 - meanIoU: 0.7215 - val_loss: 0.1176 - val_accuracy: 0.9624 - val_meanIoU: 0.5552\n",
            "Epoch 32/50\n",
            "20/20 [==============================] - 150s 8s/step - loss: 0.0703 - accuracy: 0.9728 - meanIoU: 0.7327 - val_loss: 0.1157 - val_accuracy: 0.9645 - val_meanIoU: 0.5539\n",
            "Epoch 33/50\n",
            "20/20 [==============================] - 150s 8s/step - loss: 0.0685 - accuracy: 0.9736 - meanIoU: 0.7478 - val_loss: 0.1203 - val_accuracy: 0.9659 - val_meanIoU: 0.5402\n",
            "Epoch 34/50\n",
            "20/20 [==============================] - 154s 8s/step - loss: 0.0706 - accuracy: 0.9732 - meanIoU: 0.7539 - val_loss: 0.1090 - val_accuracy: 0.9655 - val_meanIoU: 0.5509\n",
            "Epoch 35/50\n",
            "20/20 [==============================] - 150s 8s/step - loss: 0.0671 - accuracy: 0.9740 - meanIoU: 0.7696 - val_loss: 0.1170 - val_accuracy: 0.9633 - val_meanIoU: 0.5467\n",
            "Epoch 36/50\n",
            "20/20 [==============================] - 150s 7s/step - loss: 0.0662 - accuracy: 0.9739 - meanIoU: 0.7682 - val_loss: 0.1089 - val_accuracy: 0.9646 - val_meanIoU: 0.5605\n",
            "Epoch 37/50\n",
            "20/20 [==============================] - 150s 7s/step - loss: 0.0655 - accuracy: 0.9742 - meanIoU: 0.7633 - val_loss: 0.1145 - val_accuracy: 0.9633 - val_meanIoU: 0.5250\n",
            "Epoch 38/50\n",
            "20/20 [==============================] - 150s 8s/step - loss: 0.0676 - accuracy: 0.9733 - meanIoU: 0.7757 - val_loss: 0.1080 - val_accuracy: 0.9653 - val_meanIoU: 0.5372\n",
            "Epoch 39/50\n",
            "20/20 [==============================] - 154s 8s/step - loss: 0.0658 - accuracy: 0.9739 - meanIoU: 0.7910 - val_loss: 0.1195 - val_accuracy: 0.9640 - val_meanIoU: 0.5130\n",
            "Epoch 40/50\n",
            "20/20 [==============================] - 150s 8s/step - loss: 0.0655 - accuracy: 0.9740 - meanIoU: 0.7627 - val_loss: 0.1270 - val_accuracy: 0.9646 - val_meanIoU: 0.5398\n",
            "Epoch 41/50\n",
            "20/20 [==============================] - 150s 8s/step - loss: 0.0638 - accuracy: 0.9749 - meanIoU: 0.7631 - val_loss: 0.1315 - val_accuracy: 0.9637 - val_meanIoU: 0.5499\n",
            "Epoch 42/50\n",
            "20/20 [==============================] - 150s 8s/step - loss: 0.0647 - accuracy: 0.9748 - meanIoU: 0.7410 - val_loss: 0.1338 - val_accuracy: 0.9615 - val_meanIoU: 0.5469\n",
            "Epoch 43/50\n",
            "20/20 [==============================] - 151s 8s/step - loss: 0.0639 - accuracy: 0.9749 - meanIoU: 0.7600 - val_loss: 0.1216 - val_accuracy: 0.9665 - val_meanIoU: 0.5523\n",
            "Epoch 44/50\n",
            "20/20 [==============================] - 153s 8s/step - loss: 0.0617 - accuracy: 0.9760 - meanIoU: 0.7753 - val_loss: 0.1168 - val_accuracy: 0.9656 - val_meanIoU: 0.5255\n",
            "Epoch 45/50\n",
            "20/20 [==============================] - 157s 8s/step - loss: 0.0624 - accuracy: 0.9760 - meanIoU: 0.7818 - val_loss: 0.1198 - val_accuracy: 0.9626 - val_meanIoU: 0.5283\n",
            "Epoch 46/50\n",
            "20/20 [==============================] - 152s 8s/step - loss: 0.0589 - accuracy: 0.9770 - meanIoU: 0.7983 - val_loss: 0.1272 - val_accuracy: 0.9597 - val_meanIoU: 0.5270\n",
            "Epoch 47/50\n",
            "20/20 [==============================] - 152s 8s/step - loss: 0.0601 - accuracy: 0.9764 - meanIoU: 0.7913 - val_loss: 0.1191 - val_accuracy: 0.9633 - val_meanIoU: 0.5338\n"
          ],
          "name": "stdout"
        },
        {
          "output_type": "execute_result",
          "data": {
            "text/plain": [
              "<tensorflow.python.keras.callbacks.History at 0x7f11100371d0>"
            ]
          },
          "metadata": {
            "tags": []
          },
          "execution_count": 25
        }
      ]
    },
    {
      "cell_type": "markdown",
      "metadata": {
        "id": "6rsmJ39K3i_S"
      },
      "source": [
        "# Model test"
      ]
    },
    {
      "cell_type": "code",
      "metadata": {
        "id": "bn1PXRMW050I",
        "colab": {
          "base_uri": "https://localhost:8080/",
          "height": 820
        },
        "outputId": "24083e84-4a03-4262-8101-bc7db5124ab4"
      },
      "source": [
        "%load_ext tensorboard\n",
        "%tensorboard --logdir '/content/drive/My Drive/ANNDL_Homeworks2/Andrea/Experiment_Final/multiclass_segmentation_experiments'"
      ],
      "execution_count": null,
      "outputs": []
    },
    {
      "cell_type": "code",
      "metadata": {
        "id": "IwWQmopAjNMo",
        "colab": {
          "base_uri": "https://localhost:8080/"
        },
        "outputId": "bbcef443-3b4b-46db-bf3d-380cde759f18"
      },
      "source": [
        "# Load chosen model (we chose the 27th epoch, that ensures the best balance between val_loss and val_meanIoU)\n",
        "\n",
        "model.load_weights(os.path.join(env, 'multiclass_segmentation_experiments', 'CNN_Jan19_07-27-48', 'ckpts', 'cp_27.ckpt'))"
      ],
      "execution_count": null,
      "outputs": [
        {
          "output_type": "execute_result",
          "data": {
            "text/plain": [
              "<tensorflow.python.training.tracking.util.CheckpointLoadStatus at 0x7f1109d67cf8>"
            ]
          },
          "metadata": {
            "tags": []
          },
          "execution_count": 27
        }
      ]
    },
    {
      "cell_type": "code",
      "metadata": {
        "id": "3FWur3q03YtG"
      },
      "source": [
        "# Perform the test of the model\n",
        "\n",
        "%matplotlib inline\n",
        "\n",
        "iterator = iter(valid_dataset)"
      ],
      "execution_count": null,
      "outputs": []
    },
    {
      "cell_type": "code",
      "metadata": {
        "id": "SVBxDMyX34H-",
        "colab": {
          "base_uri": "https://localhost:8080/",
          "height": 184
        },
        "outputId": "2f652f30-5801-4b91-ceaf-b293fce4d5bf"
      },
      "source": [
        "fig, ax = plt.subplots(1, 4, figsize=(8, 8))\n",
        "fig.show()\n",
        "image, target = next(iterator)\n",
        "\n",
        "image = image[0]\n",
        "img_denormalized = deprocess_img(image.numpy())\n",
        "\n",
        "target = target[0, ..., 0]\n",
        "\n",
        "out_sigmoid = model.predict(x=tf.expand_dims(image, 0))\n",
        "\n",
        "# Get predicted class as the index corresponding to the maximum value in the vector probability\n",
        "# predicted_class = tf.cast(out_sigmoid > score_th, tf.int32)\n",
        "# predicted_class = predicted_class[0, ..., 0]\n",
        "predicted_class = tf.argmax(out_sigmoid, -1)\n",
        "\n",
        "out_sigmoid.shape\n",
        "\n",
        "predicted_class = predicted_class[0, ...]\n",
        "\n",
        "# Assign colors (just for visualization)\n",
        "target_img = np.zeros([target.shape[0], target.shape[1], 3])\n",
        "prediction_img = np.zeros([target.shape[0], target.shape[1], 3])\n",
        "\n",
        "target_img[np.where(target == 0)] = [0, 0, 0]\n",
        "for i in range(1, 3):\n",
        "  target_img[np.where(target == i)] = np.array(colors[i-1])[:3] * 255\n",
        "\n",
        "prediction_img[np.where(predicted_class == 0)] = [0, 0, 0]\n",
        "for i in range(1, 3):\n",
        "  prediction_img[np.where(predicted_class == i)] = np.array(colors[i-1])[:3] * 255\n",
        "\n",
        "ax[0].imshow(np.uint8(img_denormalized))\n",
        "ax[1].imshow(np.uint8(image))\n",
        "ax[2].imshow(np.uint8(target_img))\n",
        "ax[3].imshow(np.uint8(prediction_img))\n",
        "\n",
        "fig.canvas.draw()\n",
        "time.sleep(1)"
      ],
      "execution_count": null,
      "outputs": [
        {
          "output_type": "execute_result",
          "data": {
            "text/plain": [
              "(1, 1184, 1184, 3)"
            ]
          },
          "metadata": {
            "tags": []
          },
          "execution_count": 29
        },
        {
          "output_type": "execute_result",
          "data": {
            "text/plain": [
              "<matplotlib.image.AxesImage at 0x7f1109d5eac8>"
            ]
          },
          "metadata": {
            "tags": []
          },
          "execution_count": 29
        },
        {
          "output_type": "execute_result",
          "data": {
            "text/plain": [
              "<matplotlib.image.AxesImage at 0x7f1108becb00>"
            ]
          },
          "metadata": {
            "tags": []
          },
          "execution_count": 29
        },
        {
          "output_type": "execute_result",
          "data": {
            "text/plain": [
              "<matplotlib.image.AxesImage at 0x7f1108b8f3c8>"
            ]
          },
          "metadata": {
            "tags": []
          },
          "execution_count": 29
        },
        {
          "output_type": "execute_result",
          "data": {
            "text/plain": [
              "<matplotlib.image.AxesImage at 0x7f1108b8f668>"
            ]
          },
          "metadata": {
            "tags": []
          },
          "execution_count": 29
        },
        {
          "output_type": "display_data",
          "data": {
            "image/png": "[encoded data removed]",
            "text/plain": [
              "<Figure size 576x576 with 4 Axes>"
            ]
          },
          "metadata": {
            "tags": [],
            "needs_background": "light"
          }
        }
      ]
    },
    {
      "cell_type": "markdown",
      "metadata": {
        "id": "ILmLrdtbjT9r"
      },
      "source": [
        "# Generate prediction"
      ]
    },
    {
      "cell_type": "code",
      "metadata": {
        "id": "jptZkly7jTht",
        "colab": {
          "base_uri": "https://localhost:8080/"
        },
        "outputId": "43a8cb2f-aff0-4b49-e49d-4adf51d57785"
      },
      "source": [
        "# Load chosen model\n",
        "\n",
        "model.load_weights(os.path.join(env, 'multiclass_segmentation_experiments', 'CNN_Jan19_07-27-48', 'ckpts', 'cp_27.ckpt'))"
      ],
      "execution_count": null,
      "outputs": [
        {
          "output_type": "execute_result",
          "data": {
            "text/plain": [
              "<tensorflow.python.training.tracking.util.CheckpointLoadStatus at 0x7f10dde549b0>"
            ]
          },
          "metadata": {
            "tags": []
          },
          "execution_count": 30
        }
      ]
    },
    {
      "cell_type": "code",
      "metadata": {
        "id": "pPA4uW_mjdu_"
      },
      "source": [
        "def rle_encode(img):\n",
        "  '''\n",
        "  img: numpy array, 1 - foreground, 0 - background\n",
        "  Returns run length as string formatted\n",
        "  '''\n",
        "  pixels = img.flatten()\n",
        "  pixels = np.concatenate([[0], pixels, [0]])\n",
        "  runs = np.where(pixels[1:] != pixels[:-1])[0] + 1\n",
        "  runs[1::2] -= runs[::2]\n",
        "  return ' '.join(str(x) for x in runs)"
      ],
      "execution_count": null,
      "outputs": []
    },
    {
      "cell_type": "code",
      "metadata": {
        "id": "yAQyYvXOHfH-"
      },
      "source": [
        "import PIL\n",
        "import json\n",
        "import cv2\n",
        "\n",
        "# Set the subgroups of folders that must be tested\n",
        "\n",
        "teams = ('Bipbip','Pead','Roseau','Weedelec')\n",
        "crops = ('Haricot','Mais')\n",
        "\n",
        "submission_dict = {}\n",
        "\n",
        "for team in teams:\n",
        "  for crop in crops:\n",
        "\n",
        "    # Set the image folder for testing\n",
        "\n",
        "    test_dir = os.path.join('/content/Test_Final', team, crop, 'Images')\n",
        "\n",
        "    # Get the list of image names to be tested\n",
        " \n",
        "    names_list = os.listdir(test_dir)\n",
        "    names_list = sorted(names_list)\n",
        "\n",
        "    # Fill the dictionary with all the necessary informations\n",
        "\n",
        "    for image_name in names_list:\n",
        "  \n",
        "      # Open image\n",
        "\n",
        "      image = Image.open(os.path.join(test_dir, image_name))\n",
        "\n",
        "      initial_size = list(image.size)\n",
        "      image = image.resize([img_w, img_h])\n",
        "\n",
        "      # Create a tensor from each image\n",
        "\n",
        "      img_arr = np.array(image)\n",
        "      img_arr = preprocess_input(img_arr)\n",
        "\n",
        "      # Generate the prediction\n",
        "      \n",
        "      model_output = model.predict(x=tf.expand_dims(img_arr, 0))\n",
        "      mask_arr = tf.argmax(model_output, -1)\n",
        "      mask_arr = np.array(mask_arr[0, ...])\n",
        "\n",
        "      mask_arr = cv2.resize(mask_arr, dsize=(initial_size[0], initial_size[1]), interpolation=cv2.INTER_NEAREST)\n",
        "  \n",
        "      # Add to the dictionary\n",
        "\n",
        "      img_name = image_name.replace('.jpg', '').replace('.png', '')\n",
        " \n",
        "      submission_dict[img_name] = {}\n",
        "      submission_dict[img_name]['shape'] = mask_arr.shape\n",
        "      submission_dict[img_name]['team'] = team\n",
        "      submission_dict[img_name]['crop'] = crop\n",
        "      submission_dict[img_name]['segmentation'] = {}\n",
        "  \n",
        "      # RLE encoding\n",
        "\n",
        "      # crop\n",
        "      rle_encoded_crop = rle_encode(mask_arr == 1)\n",
        "      # weed\n",
        "      rle_encoded_weed = rle_encode(mask_arr == 2)  \n",
        "  \n",
        "      # Fill the dictionary with segmentation infos\n",
        "\n",
        "      submission_dict[img_name]['segmentation']['crop'] = rle_encoded_crop\n",
        "      submission_dict[img_name]['segmentation']['weed'] = rle_encoded_weed\n",
        "\n",
        "      image.close()\n",
        "\n",
        "# Create json file\n",
        "\n",
        "with open(os.path.join(env, 'submission.json'), 'w') as f:\n",
        "  json.dump(submission_dict, f)"
      ],
      "execution_count": null,
      "outputs": []
    }
  ]
}